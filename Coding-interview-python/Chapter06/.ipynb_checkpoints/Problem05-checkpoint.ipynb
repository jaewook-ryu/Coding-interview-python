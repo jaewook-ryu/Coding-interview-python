{
 "cells": [
  {
   "cell_type": "markdown",
   "metadata": {},
   "source": [
    "# Longest Palindrome Substring"
   ]
  },
  {
   "cell_type": "code",
   "execution_count": 2,
   "metadata": {},
   "outputs": [],
   "source": [
    "#!jt -t solarizedd -T -N -kl"
   ]
  },
  {
   "cell_type": "markdown",
   "metadata": {},
   "source": [
    "#### Solution 01: Brute force"
   ]
  },
  {
   "cell_type": "code",
   "execution_count": 3,
   "metadata": {},
   "outputs": [],
   "source": [
    "class Solution:\n",
    "    def longestPalindrome(self, s: str) -> str:\n",
    "        pass\n",
    "        "
   ]
  },
  {
   "cell_type": "markdown",
   "metadata": {},
   "source": [
    "#### Solution 02: Sliding window"
   ]
  },
  {
   "cell_type": "code",
   "execution_count": 57,
   "metadata": {},
   "outputs": [
    {
     "name": "stdout",
     "output_type": "stream",
     "text": [
      "aac caa\n",
      "aca aca\n",
      "a b\n",
      "0\n",
      "cab bac\n",
      "abd dba\n",
      "bdk kdb\n",
      "dka akd\n",
      "kac cak\n",
      "aca aca\n",
      "k a\n",
      "0\n",
      "caa aac\n",
      "aa\n"
     ]
    }
   ],
   "source": [
    "class Solution:\n",
    "    def longestPalindrome(self, s: str) -> str:\n",
    "        \n",
    "        def extend(left: int, right: int) -> int:\n",
    "            counter = 1\n",
    "            \n",
    "            while(True):\n",
    "                if(left-counter < 0 or right+counter >= len(s)):\n",
    "                    break\n",
    "                print(s[left-counter], s[right+counter])\n",
    "                if(s[left-counter] == s[right+counter]):\n",
    "                    counter += 1\n",
    "                    \n",
    "                else:\n",
    "                    break\n",
    "            \n",
    "            return (counter-1)\n",
    "        \n",
    "        #Base Cases\n",
    "        if(len(s) == 1 or s == s[::-1]):\n",
    "            return s\n",
    "        \n",
    "        max_length = 1;\n",
    "        max_string = s[0];\n",
    "        s = s.lower()\n",
    "        \n",
    "        #Now onto scanning the string\n",
    "        for i in range(len(s)):\n",
    "            if(i <= len(s)-2):\n",
    "                #print(s[i:i+2], s[i:i+2][::-1])\n",
    "                if(s[i:i+2] == s[i:i+2][::-1]):\n",
    "                    ext = extend(i, i+1)\n",
    "                    #print(ext)\n",
    "                    if(2+ext*2 > max_length):\n",
    "                        max_string = s[i-ext:i+2+ext]\n",
    "                        max_length = 2+ext*2\n",
    "                    \n",
    "            \n",
    "            if(i <= len(s)-3):\n",
    "                print(s[i:i+3], s[i:i+3][::-1])\n",
    "                if(s[i:i+3] == s[i:i+3][::-1]):\n",
    "                    ext = extend(i, i+2)\n",
    "                    print(ext)\n",
    "                    if(3+ext*2 > max_length):\n",
    "                        max_string = s[i-ext:i+3+ext]\n",
    "                        max_length = 3+ext*2\n",
    "                        \n",
    "        return max_string\n",
    "\n",
    "\n",
    "if __name__ == \"__main__\":\n",
    "    sol = Solution()\n",
    "    #s = \"dacbcadefgfes\"\n",
    "    #sol.longestPalindrome(s)\n",
    "    d = \"aacabdkacaa\"\n",
    "    print(sol.longestPalindrome(d))"
   ]
  },
  {
   "cell_type": "code",
   "execution_count": null,
   "metadata": {},
   "outputs": [],
   "source": []
  }
 ],
 "metadata": {
  "kernelspec": {
   "display_name": "Python 3",
   "language": "python",
   "name": "python3"
  },
  "language_info": {
   "codemirror_mode": {
    "name": "ipython",
    "version": 3
   },
   "file_extension": ".py",
   "mimetype": "text/x-python",
   "name": "python",
   "nbconvert_exporter": "python",
   "pygments_lexer": "ipython3",
   "version": "3.7.4"
  }
 },
 "nbformat": 4,
 "nbformat_minor": 4
}
