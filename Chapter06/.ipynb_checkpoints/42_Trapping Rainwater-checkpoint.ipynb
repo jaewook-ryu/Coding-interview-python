{
 "cells": [
  {
   "cell_type": "markdown",
   "id": "f0aeeb42",
   "metadata": {},
   "source": [
    "### LeetCode Problem 42: Trapping Rainwater"
   ]
  },
  {
   "cell_type": "code",
   "execution_count": 4,
   "id": "286c73a5",
   "metadata": {},
   "outputs": [
    {
     "name": "stdout",
     "output_type": "stream",
     "text": [
      "Enabling notebook extension /tmp/miniconda3/lib/python3.8/site-packages/jupyter_contrib_nbextensions...\r\n",
      "      - Validating: problems found:\r\n",
      "        - require? \u001b[31m X\u001b[0m /tmp/miniconda3/lib/python3.8/site-packages/jupyter_contrib_nbextensions\r\n"
     ]
    }
   ],
   "source": [
    "!jt -t grade3 -f roboto -fs 12 -tfs 12 -nfs 12 -ofs 10 -cellw 80% -T -N"
   ]
  },
  {
   "cell_type": "code",
   "execution_count": 84,
   "id": "e73f6d37",
   "metadata": {},
   "outputs": [],
   "source": [
    "# Code to change additional style elements for my satisfcation\n",
    "from pathlib import Path\n",
    "\n",
    "home = str(Path.home())\n",
    "css_directory = home + \"/.jupyter/custom/custom.css\"\n",
    "\n",
    "try:\n",
    "    f = open(css_directory, \"r\")\n",
    "except:\n",
    "    print(\"No custom.css file under /.jupyter/custom/ directory.\")\n",
    "    \n",
    "# Read through file and modify the css file. \n",
    "\n",
    "lines = f.readlines()\n",
    "modified_lines = []\n",
    "\n",
    "index_line = 0\n",
    "\n",
    "while(index_line < len(lines)):\n",
    "    #div.prompt.input_prompt 에 height: 100% !important;\n",
    "    if(\"div.prompt.input_prompt\" in lines[index_line]):\n",
    "        index_bracket = lines[index_line:].index(\"}\\n\")\n",
    "        modified_lines.append(\" height: 100% !important;\\n\")\n",
    "        index_line += (index_line + index_bracket)\n",
    "        \n",
    "    # Modify color of matching bracket highlight\n",
    "    elif(\"div.CodeMirror span.CodeMirror-matchingbracket\" in lines[index_line]):\n",
    "        index_bracket = lines[index_line:].index(\"}\\n\")\n",
    "        \n",
    "        modified_lines.append(\" color: #ffffff;\\n\" + \n",
    "                             \" font-weight: bold;\\n\" + \n",
    "                             \" background-color: #009e07;\\n\")\n",
    "        \n",
    "        index_line += (i + index_bracket)\n",
    "\n",
    "    elif(\"div.CodeMirror span.CodeMirror-nonmatchingbracket\" in lines[index_line]):\n",
    "        index_bracket = lines[index_line:].index(\"}\\n\")\n",
    "        \n",
    "        modified_lines.append(\" color: #ffff00;\\n\" + \n",
    "                             \" font-weight: bold;\\n\" + \n",
    "                             \" background: rgba(191,11,55,.70) !important;\\n\")\n",
    "        \n",
    "        index_line += (i + index_bracket)\n",
    "    \n",
    "    else:\n",
    "        modified_lines.append(lines[index_line])\n",
    "        index_line += 1\n",
    "        \n",
    "css_write_directory = home + \"/.jupyter/custom/custom_test.css\"\n",
    "f_modified = open(css_write_directory, \"w\")\n",
    "f_modified.writelines(modified_lines)\n",
    "f_modified.close()\n",
    "    "
   ]
  },
  {
   "cell_type": "code",
   "execution_count": 8,
   "id": "6e5ffe9e",
   "metadata": {},
   "outputs": [
    {
     "ename": "SyntaxError",
     "evalue": "unexpected EOF while parsing (<ipython-input-8-fe2cf4da0288>, line 5)",
     "output_type": "error",
     "traceback": [
      "\u001b[0;36m  File \u001b[0;32m\"<ipython-input-8-fe2cf4da0288>\"\u001b[0;36m, line \u001b[0;32m5\u001b[0m\n\u001b[0;31m    \u001b[0m\n\u001b[0m    ^\u001b[0m\n\u001b[0;31mSyntaxError\u001b[0m\u001b[0;31m:\u001b[0m unexpected EOF while parsing\n"
     ]
    }
   ],
   "source": [
    "class Solution:\n",
    "    def trap(self, height: List[int]) -> int:\n",
    "        \n",
    "        \n",
    "        "
   ]
  },
  {
   "cell_type": "markdown",
   "id": "492cf939",
   "metadata": {},
   "source": [
    "Code for driver program follows:"
   ]
  },
  {
   "cell_type": "code",
   "execution_count": null,
   "id": "ea3b5b68",
   "metadata": {},
   "outputs": [],
   "source": [
    "if __name__ == \"__main__\":\n",
    "    s = Solution()\n",
    "    height = height = [0,1,0,2,1,0,1,3,2,1,2,1]\n",
    "    s.trap(height)\n"
   ]
  }
 ],
 "metadata": {
  "kernelspec": {
   "display_name": "Python 3",
   "language": "python",
   "name": "python3"
  },
  "language_info": {
   "codemirror_mode": {
    "name": "ipython",
    "version": 3
   },
   "file_extension": ".py",
   "mimetype": "text/x-python",
   "name": "python",
   "nbconvert_exporter": "python",
   "pygments_lexer": "ipython3",
   "version": "3.8.5"
  }
 },
 "nbformat": 4,
 "nbformat_minor": 5
}
