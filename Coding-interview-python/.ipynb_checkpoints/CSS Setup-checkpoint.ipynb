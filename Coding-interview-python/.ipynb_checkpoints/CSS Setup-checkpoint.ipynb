{
 "cells": [
  {
   "cell_type": "markdown",
   "id": "bedb9f81",
   "metadata": {},
   "source": [
    "### Setup CSS!"
   ]
  },
  {
   "cell_type": "markdown",
   "id": "d5cc6fbe",
   "metadata": {},
   "source": [
    "Run the following code snippets to get my 'working environment' appearance."
   ]
  },
  {
   "cell_type": "code",
   "execution_count": 6,
   "id": "024506e3",
   "metadata": {},
   "outputs": [],
   "source": [
    "!jt -t grade3 -f roboto -fs 12 -tf opensans -tfs 12 -nfs 12 -ofs 10 -cellw 80% -T -N -kl"
   ]
  },
  {
   "cell_type": "code",
   "execution_count": 7,
   "id": "9a7f5b68",
   "metadata": {},
   "outputs": [
    {
     "name": "stdout",
     "output_type": "stream",
     "text": [
      "10\n",
      "div.CodeMirror span.CodeMirror-matchingbracket {\n",
      "\n",
      "4\n"
     ]
    }
   ],
   "source": [
    "# Code to change additional style elements for my satisfcation\n",
    "from pathlib import Path\n",
    "\n",
    "home = str(Path.home())\n",
    "css_directory = home + \"/.jupyter/custom/custom.css\"\n",
    "\n",
    "try:\n",
    "    f = open(css_directory, \"r\")\n",
    "except:\n",
    "    print(\"No custom.css file under /.jupyter/custom/ directory.\")\n",
    "    \n",
    "# Read through file and modify the css file. \n",
    "\n",
    "lines = f.readlines()\n",
    "modified_lines = []\n",
    "\n",
    "index_line = 0\n",
    "\n",
    "while(index_line < len(lines)):\n",
    "    #div.prompt.input_prompt 에 height: 100% !important;\n",
    "    if(\"div.prompt.input_prompt\" in lines[index_line]):\n",
    "        index_bracket = lines[index_line:].index(\"}\\n\")\n",
    "        print(index_bracket)\n",
    "        modified_lines.append(lines[index_line])\n",
    "        modified_lines.append(\" height: 100% !important;\\n\")\n",
    "        modified_lines.append(lines[index_line+1:(index_line + index_bracket)])\n",
    "        \n",
    "        index_line += index_bracket\n",
    "        \n",
    "        \n",
    "    # Modify color of matching bracket highlight\n",
    "    elif(\"div.CodeMirror span.CodeMirror-matchingbracket\" in lines[index_line]):\n",
    "        print(lines[index_line])\n",
    "        \n",
    "        index_bracket = lines[index_line:].index(\"}\\n\")\n",
    "        \n",
    "        modified_lines.append(lines[index_line])\n",
    "        modified_lines.append(\" color: #FFFFFF;\\n\" + \n",
    "                             \" font-weight: bold;\\n\" + \n",
    "                             \" background-color: #56e051;\\n\")\n",
    "        index_line += index_bracket\n",
    "\n",
    "    elif(\"div.CodeMirror span.CodeMirror-nonmatchingbracket\" in lines[index_line]):\n",
    "        index_bracket = lines[index_line:].index(\"}\\n\")\n",
    "        \n",
    "        modified_lines.append(lines[index_line])\n",
    "        modified_lines.append(\" color: #FFFFFF;\\n\" + \n",
    "                             \" font-weight: bold;\\n\" + \n",
    "                             \" background: #e34f79 !important;\\n\")\n",
    "        print(index_bracket)\n",
    "        index_line += index_bracket\n",
    "    \n",
    "    else:\n",
    "        modified_lines.append(lines[index_line])\n",
    "        index_line += 1\n",
    "        \n",
    "css_write_directory = home + \"/.jupyter/custom/custom.css\"\n",
    "f_modified = open(css_write_directory, \"w\")\n",
    "\n",
    "#print(len(lines))\n",
    "#print(len(modified_lines))\n",
    "\n",
    "for line in modified_lines:\n",
    "    f_modified.writelines(line)\n",
    "\n",
    "f_modified.close()"
   ]
  },
  {
   "cell_type": "code",
   "execution_count": null,
   "id": "34ffa857",
   "metadata": {},
   "outputs": [],
   "source": []
  }
 ],
 "metadata": {
  "kernelspec": {
   "display_name": "Python 3",
   "language": "python",
   "name": "python3"
  },
  "language_info": {
   "codemirror_mode": {
    "name": "ipython",
    "version": 3
   },
   "file_extension": ".py",
   "mimetype": "text/x-python",
   "name": "python",
   "nbconvert_exporter": "python",
   "pygments_lexer": "ipython3",
   "version": "3.8.5"
  }
 },
 "nbformat": 4,
 "nbformat_minor": 5
}
