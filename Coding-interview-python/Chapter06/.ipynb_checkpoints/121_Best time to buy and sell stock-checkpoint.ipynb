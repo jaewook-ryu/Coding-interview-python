{
 "cells": [
  {
   "cell_type": "markdown",
   "id": "118446a6",
   "metadata": {},
   "source": [
    "### Leetcode Problem 121: Best time to buy and sell stock"
   ]
  },
  {
   "cell_type": "markdown",
   "id": "944d3108",
   "metadata": {},
   "source": [
    "#### Solution 1: Brute-force solution"
   ]
  },
  {
   "cell_type": "markdown",
   "id": "5d91d982",
   "metadata": {},
   "source": [
    "Brute force (checking all possibilities) would require ~O($N^{2}$) time complexity. Obviously a bad solution."
   ]
  },
  {
   "cell_type": "code",
   "execution_count": 15,
   "id": "7526c72f",
   "metadata": {},
   "outputs": [
    {
     "name": "stdout",
     "output_type": "stream",
     "text": [
      "5\n"
     ]
    }
   ],
   "source": [
    "# To prevent error from \"List\"\n",
    "from typing import List\n",
    "\n",
    "class Solution:\n",
    "    def maxProfit(self, prices: List[int]) -> int:\n",
    "        profit = 0\n",
    "        \n",
    "        for i in range(len(prices)):\n",
    "            for j in range(i, len(prices)):\n",
    "                diff = prices[j]-prices[i]\n",
    "                if(diff > profit):\n",
    "                    profit = diff\n",
    "        \n",
    "        return profit\n",
    "\n",
    "if __name__ == \"__main__\":\n",
    "    prices = [7,1,5,3,6,4]\n",
    "    sol = Solution()\n",
    "    print(sol.maxProfit(prices))"
   ]
  },
  {
   "cell_type": "markdown",
   "id": "8382ac6a",
   "metadata": {},
   "source": [
    "#### Solution 2: Enhancement using sliding window"
   ]
  },
  {
   "cell_type": "markdown",
   "id": "b227e2ac",
   "metadata": {},
   "source": [
    "This solution utilizes the idea that the points in which we use to calculate the maximum profit are local min/max values.\n",
    "<br>\n",
    "&nbsp;&nbsp;&nbsp;&nbsp;-First get points that are local minima/maxima using sliding window. \n",
    "<br>\n",
    "&nbsp;&nbsp;&nbsp;&nbsp;-Then go through the list of local min/max to calculate maximum profit. "
   ]
  },
  {
   "cell_type": "code",
   "execution_count": 28,
   "id": "40a5d056",
   "metadata": {},
   "outputs": [
    {
     "name": "stdout",
     "output_type": "stream",
     "text": [
      "5\n"
     ]
    }
   ],
   "source": [
    "# To prevent error from \"List\"\n",
    "from typing import List\n",
    "\n",
    "class Solution:\n",
    "    def maxProfit(self, prices: List[int]) -> int:\n",
    "        # limiting cases: 1, 2, 3\n",
    "        if(len(prices) == 1):\n",
    "            return 0\n",
    "        \n",
    "        if(len(prices) == 1):\n",
    "            \n",
    "            if(prices[1]>prices[0]):\n",
    "                return prices[1]-prices[0]\n",
    "            else:\n",
    "                return 0\n",
    "            \n",
    "        if(len(prices) == 3):\n",
    "            return max(prices[2]-prices[1], prices[2]-prices[0], prices[1]-prices[0], 0)\n",
    "        \n",
    "        \n",
    "        # Calculate local min/max using sliding window\n",
    "        \n",
    "        local_max = [0]*len(prices)\n",
    "        local_min = [0]*len(prices)\n",
    "        \n",
    "        for i in range(0, len(prices)):\n",
    "            # first point is considered a local min\n",
    "            if(i == 0):\n",
    "                local_min[i] = prices[i]\n",
    "\n",
    "            # last point is considered a local max    \n",
    "            elif(i == len(prices) - 1):\n",
    "                local_max[i] = prices[i] \n",
    "            \n",
    "            # local max?\n",
    "            elif(prices[i-1] <  prices[i] and prices[i+1] < prices[i]):\n",
    "                local_max[i] = prices[i]\n",
    "                \n",
    "            # local min?    \n",
    "            elif(prices[i-1] > prices[i] and prices[i+1] > prices[i]):\n",
    "                local_min[i] = prices[i]\n",
    "    \n",
    "        #print(local_max)\n",
    "        #print(local_min)\n",
    "    \n",
    "        # Then go through list\n",
    "        max_profit = 0\n",
    "        \n",
    "        for i in range(len(local_min)):\n",
    "            if(local_min[i] != 0):\n",
    "                \n",
    "                sell = max([x for x in local_max[i:] if x != 0])\n",
    "                profit = sell-local_min[i]\n",
    "\n",
    "                if(profit > max_profit):\n",
    "                    max_profit = profit\n",
    "                \n",
    "                \n",
    "        return max_profit\n",
    "\n",
    "    \n",
    "if __name__ == \"__main__\":\n",
    "    prices = [7,1,5,3,6,4,2,1]\n",
    "    sol = Solution()\n",
    "    print(sol.maxProfit(prices))"
   ]
  },
  {
   "cell_type": "code",
   "execution_count": null,
   "id": "fe535b05",
   "metadata": {},
   "outputs": [],
   "source": []
  }
 ],
 "metadata": {
  "kernelspec": {
   "display_name": "Python 3",
   "language": "python",
   "name": "python3"
  },
  "language_info": {
   "codemirror_mode": {
    "name": "ipython",
    "version": 3
   },
   "file_extension": ".py",
   "mimetype": "text/x-python",
   "name": "python",
   "nbconvert_exporter": "python",
   "pygments_lexer": "ipython3",
   "version": "3.8.5"
  }
 },
 "nbformat": 4,
 "nbformat_minor": 5
}
